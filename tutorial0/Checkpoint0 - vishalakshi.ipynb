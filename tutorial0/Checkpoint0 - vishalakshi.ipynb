{
 "cells": [
  {
   "cell_type": "code",
   "execution_count": 29,
   "id": "283f0e2e-7745-4728-97ea-84190d547882",
   "metadata": {},
   "outputs": [],
   "source": [
    "a = [1, 2, 3, 4, 5, 6]"
   ]
  },
  {
   "cell_type": "code",
   "execution_count": 7,
   "id": "9354b37a-55e5-447d-af8d-023bcdadcc24",
   "metadata": {},
   "outputs": [
    {
     "name": "stdout",
     "output_type": "stream",
     "text": [
      "[1, 2, 3, 4, 5, 6]\n"
     ]
    }
   ],
   "source": [
    "print (a)"
   ]
  },
  {
   "cell_type": "code",
   "execution_count": 27,
   "id": "03e85810-baac-44d6-a042-fc7f994eb4cc",
   "metadata": {},
   "outputs": [
    {
     "data": {
      "text/plain": [
       "[4, 5, 6]"
      ]
     },
     "execution_count": 27,
     "metadata": {},
     "output_type": "execute_result"
    }
   ],
   "source": [
    "a [-3:]"
   ]
  },
  {
   "cell_type": "code",
   "execution_count": 53,
   "id": "ddcb4501-3d24-4fc1-908e-c124a3fe708d",
   "metadata": {},
   "outputs": [
    {
     "name": "stdout",
     "output_type": "stream",
     "text": [
      "[1, 2, 3, 4, 5, 6, 7, 8, 9, 10, 11, 12, 13, 14, 15, 16, 17, 18, 19, 20]\n"
     ]
    }
   ],
   "source": [
    "twentyList = list (range(1, 21))\n",
    "print (twentyList)"
   ]
  },
  {
   "cell_type": "code",
   "execution_count": 7,
   "id": "d7a29c5b-20a1-4aad-afd0-06dd5c23bac5",
   "metadata": {},
   "outputs": [
    {
     "name": "stdout",
     "output_type": "stream",
     "text": [
      "[2, 4, 6, 8, 10, 12, 14, 16, 18, 20, 22, 24, 26, 28, 30, 32, 34, 36, 38, 40, 42, 44, 46, 48, 50, 52, 54, 56, 58, 60, 62, 64, 66, 68, 70, 72, 74, 76, 78, 80, 82, 84, 86, 88, 90, 92, 94, 96, 98, 100]\n"
     ]
    }
   ],
   "source": [
    "evenList = list (range(2, 101, 2))\n",
    "print (evenList)"
   ]
  },
  {
   "cell_type": "code",
   "execution_count": 31,
   "id": "fa5c55d1-4d99-4eda-9caa-aeacab93b97e",
   "metadata": {},
   "outputs": [
    {
     "name": "stdout",
     "output_type": "stream",
     "text": [
      "2.0\n"
     ]
    }
   ],
   "source": [
    "def divide_numbers(num1, num2):\n",
    "    divided = (num1 / num2)\n",
    "    return divided\n",
    "\n",
    "print(divide_numbers(10, 5))"
   ]
  },
  {
   "cell_type": "code",
   "execution_count": 7,
   "id": "a615dac0-d7db-4036-bc73-1786658837c8",
   "metadata": {},
   "outputs": [
    {
     "name": "stdout",
     "output_type": "stream",
     "text": [
      "0 fizzbuzz\n",
      "1\n",
      "2\n",
      "3 fizzbuzz\n",
      "4 fizzbuzz\n",
      "5 fizzbuzz\n",
      "6 fizzbuzz\n",
      "7 fizzbuzz\n",
      "8\n",
      "9 fizzbuzz\n",
      "10 fizzbuzz\n",
      "11 fizzbuzz\n",
      "12 fizzbuzz\n",
      "13\n",
      "14 fizzbuzz\n",
      "15 fizzbuzz\n",
      "16\n",
      "17\n",
      "18 fizzbuzz\n",
      "19 fizzbuzz\n",
      "20 fizzbuzz\n",
      "21 fizzbuzz\n",
      "22 fizzbuzz\n",
      "23\n",
      "24 fizzbuzz\n",
      "25 fizzbuzz\n",
      "26 fizzbuzz\n",
      "27 fizzbuzz\n",
      "28\n",
      "29 fizzbuzz\n",
      "30 fizzbuzz\n"
     ]
    }
   ],
   "source": [
    "thirtyList = list(range(31))\n",
    "\n",
    "for num in thirtyList: \n",
    "   if thirtyList[num] % 3 & thirtyList[num] % 5 == 0:\n",
    "        print(num, \"fizzbuzz\")\n",
    "   elif thirtyList[num] % 3 == 0:\n",
    "        print(num, \"fizz\")\n",
    "   elif thirtyList[num] % 5 == 0:\n",
    "        print(num, \"buzz\")\n",
    "   else:\n",
    "        print(num)"
   ]
  },
  {
   "cell_type": "code",
   "execution_count": 60,
   "id": "efb8056a-0f03-48bc-8c16-59796aba78ec",
   "metadata": {},
   "outputs": [],
   "source": [
    "Ahmo_pricing = {\"Gyro\":9.00, \"Burger\":9.00, \"Greek Salad\":8.00, \"Philly Steak\":10.00}"
   ]
  },
  {
   "cell_type": "code",
   "execution_count": null,
   "id": "9d2e3453-450d-4723-aa34-c8adaae196b7",
   "metadata": {},
   "outputs": [],
   "source": [
    "import pandas as pd\n",
    "df = pd.read_csv(\"../data/starbucks.csv\")"
   ]
  },
  {
   "cell_type": "code",
   "execution_count": null,
   "id": "d5c97bb4-5f89-4a58-91ee-43ab1e0a8997",
   "metadata": {},
   "outputs": [],
   "source": [
    "df_ = df.iloc[::40]\n",
    "df_.loc[:, [\"calories\", \"sugars\", \"protein\"]]"
   ]
  },
  {
   "cell_type": "code",
   "execution_count": null,
   "id": "c7762ca6-d151-4fa0-98e4-23e16a04dd72",
   "metadata": {},
   "outputs": [],
   "source": [
    "df[df[\"calories\"] > 400]"
   ]
  },
  {
   "cell_type": "code",
   "execution_count": null,
   "id": "ae944170-2e22-4a85-9d73-fc0fe56a08fe",
   "metadata": {},
   "outputs": [],
   "source": [
    "df[df[\"vitamin c\"] > df[\"iron\"]]"
   ]
  },
  {
   "cell_type": "code",
   "execution_count": null,
   "id": "3929a6ae-0a3e-4444-ac51-ca073b547ed7",
   "metadata": {},
   "outputs": [],
   "source": [
    "df[\"caffeine per calories\"] = df[\"caffeine\"] / df[\"calories\"]"
   ]
  },
  {
   "cell_type": "code",
   "execution_count": null,
   "id": "bc743129-97d5-40a3-945e-639c2581014f",
   "metadata": {},
   "outputs": [],
   "source": [
    "df[\"calories\"].mean()"
   ]
  },
  {
   "cell_type": "code",
   "execution_count": null,
   "id": "4d879494-ba62-4570-894c-002ddc281cf9",
   "metadata": {},
   "outputs": [],
   "source": [
    "df[\"beverage_category\"].nunique()"
   ]
  },
  {
   "cell_type": "code",
   "execution_count": null,
   "id": "b975e6e1-53ce-4555-8acc-c25fe94bc1a8",
   "metadata": {},
   "outputs": [],
   "source": [
    "df_by_category = df.groupby(\"beverage_category\")\n",
    "df_by_category[\"calories\"].mean()"
   ]
  },
  {
   "cell_type": "code",
   "execution_count": null,
   "id": "afe694d8-47a5-48b9-bf28-cbd5dd42d11d",
   "metadata": {},
   "outputs": [],
   "source": [
    "df[\"calories\"].plot.hist(edgecolor='black', alpha=0.8, title=\"Number of Calories in Drink\")"
   ]
  },
  {
   "cell_type": "code",
   "execution_count": null,
   "id": "ca311c6b-d9c7-4987-b7d0-d7a13dbbee08",
   "metadata": {},
   "outputs": [],
   "source": [
    "df.plot.scatter(x=\"calories\", y=\"total fat\", title= \"Total Fat against Calories\")"
   ]
  }
 ],
 "metadata": {
  "kernelspec": {
   "display_name": "Python 3 (ipykernel)",
   "language": "python",
   "name": "python3"
  },
  "language_info": {
   "codemirror_mode": {
    "name": "ipython",
    "version": 3
   },
   "file_extension": ".py",
   "mimetype": "text/x-python",
   "name": "python",
   "nbconvert_exporter": "python",
   "pygments_lexer": "ipython3",
   "version": "3.12.4"
  }
 },
 "nbformat": 4,
 "nbformat_minor": 5
}
