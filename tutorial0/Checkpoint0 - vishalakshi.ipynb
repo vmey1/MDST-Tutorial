{
 "cells": [
  {
   "cell_type": "code",
   "execution_count": 29,
   "id": "283f0e2e-7745-4728-97ea-84190d547882",
   "metadata": {},
   "outputs": [],
   "source": [
    "a = [1, 2, 3, 4, 5, 6]"
   ]
  },
  {
   "cell_type": "code",
   "execution_count": 7,
   "id": "9354b37a-55e5-447d-af8d-023bcdadcc24",
   "metadata": {},
   "outputs": [
    {
     "name": "stdout",
     "output_type": "stream",
     "text": [
      "[1, 2, 3, 4, 5, 6]\n"
     ]
    }
   ],
   "source": [
    "print (a)"
   ]
  },
  {
   "cell_type": "code",
   "execution_count": 27,
   "id": "03e85810-baac-44d6-a042-fc7f994eb4cc",
   "metadata": {},
   "outputs": [
    {
     "data": {
      "text/plain": [
       "[4, 5, 6]"
      ]
     },
     "execution_count": 27,
     "metadata": {},
     "output_type": "execute_result"
    }
   ],
   "source": [
    "a [-3:]"
   ]
  },
  {
   "cell_type": "code",
   "execution_count": 53,
   "id": "ddcb4501-3d24-4fc1-908e-c124a3fe708d",
   "metadata": {},
   "outputs": [
    {
     "name": "stdout",
     "output_type": "stream",
     "text": [
      "[1, 2, 3, 4, 5, 6, 7, 8, 9, 10, 11, 12, 13, 14, 15, 16, 17, 18, 19, 20]\n"
     ]
    }
   ],
   "source": [
    "twentyList = list (range(1, 21))\n",
    "print (twentyList)"
   ]
  },
  {
   "cell_type": "code",
   "execution_count": 7,
   "id": "d7a29c5b-20a1-4aad-afd0-06dd5c23bac5",
   "metadata": {},
   "outputs": [
    {
     "name": "stdout",
     "output_type": "stream",
     "text": [
      "[2, 4, 6, 8, 10, 12, 14, 16, 18, 20, 22, 24, 26, 28, 30, 32, 34, 36, 38, 40, 42, 44, 46, 48, 50, 52, 54, 56, 58, 60, 62, 64, 66, 68, 70, 72, 74, 76, 78, 80, 82, 84, 86, 88, 90, 92, 94, 96, 98, 100]\n"
     ]
    }
   ],
   "source": [
    "evenList = list (range(2, 101, 2))\n",
    "print (evenList)"
   ]
  },
  {
   "cell_type": "code",
   "execution_count": 31,
   "id": "fa5c55d1-4d99-4eda-9caa-aeacab93b97e",
   "metadata": {},
   "outputs": [
    {
     "name": "stdout",
     "output_type": "stream",
     "text": [
      "2.0\n"
     ]
    }
   ],
   "source": [
    "def divide_numbers(num1, num2):\n",
    "    divided = (num1 / num2)\n",
    "    return divided\n",
    "\n",
    "print(divide_numbers(10, 5))"
   ]
  },
  {
   "cell_type": "code",
   "execution_count": null,
   "id": "a615dac0-d7db-4036-bc73-1786658837c8",
   "metadata": {},
   "outputs": [],
   "source": []
  }
 ],
 "metadata": {
  "kernelspec": {
   "display_name": "Python 3 (ipykernel)",
   "language": "python",
   "name": "python3"
  },
  "language_info": {
   "codemirror_mode": {
    "name": "ipython",
    "version": 3
   },
   "file_extension": ".py",
   "mimetype": "text/x-python",
   "name": "python",
   "nbconvert_exporter": "python",
   "pygments_lexer": "ipython3",
   "version": "3.12.4"
  }
 },
 "nbformat": 4,
 "nbformat_minor": 5
}
